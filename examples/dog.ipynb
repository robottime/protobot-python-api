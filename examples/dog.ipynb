{
 "cells": [
  {
   "cell_type": "code",
   "execution_count": 60,
   "id": "a441339a-e5d9-44d1-9c0f-12f15a61fc70",
   "metadata": {},
   "outputs": [],
   "source": [
    "from dog import *\n",
    "dog = Dog()"
   ]
  },
  {
   "cell_type": "code",
   "execution_count": 65,
   "id": "c2761c6d-4ed4-4f89-9b4e-5cd56e3e8012",
   "metadata": {},
   "outputs": [],
   "source": [
    "dog.enable()"
   ]
  },
  {
   "cell_type": "code",
   "execution_count": 67,
   "id": "9e7e1288-f13b-42e1-b7ef-0f16334e6dd4",
   "metadata": {},
   "outputs": [],
   "source": [
    "dog.init()"
   ]
  },
  {
   "cell_type": "code",
   "execution_count": 47,
   "id": "f7d3b8e2-dd83-42a2-ac03-ce007a6dea79",
   "metadata": {},
   "outputs": [],
   "source": [
    "dog.body_pose(0,0,-0)"
   ]
  },
  {
   "cell_type": "code",
   "execution_count": 5,
   "id": "04168a17-ce72-4f7a-b90d-02a3f7e0af72",
   "metadata": {},
   "outputs": [
    {
     "data": {
      "text/plain": [
       "12.529125213623047"
      ]
     },
     "execution_count": 5,
     "metadata": {},
     "output_type": "execute_result"
    }
   ],
   "source": [
    "dog.battery.get_voltage()"
   ]
  },
  {
   "cell_type": "code",
   "execution_count": 54,
   "id": "73230893-0d75-44a2-94b5-7f25ec481a89",
   "metadata": {},
   "outputs": [],
   "source": [
    "dog.battery.set_led(0, 5, [0,255,255])"
   ]
  },
  {
   "cell_type": "code",
   "execution_count": 25,
   "id": "834b0b3c-a298-435a-af98-b5fa05a47521",
   "metadata": {},
   "outputs": [],
   "source": [
    "dog.filter_mode()"
   ]
  },
  {
   "cell_type": "code",
   "execution_count": 57,
   "id": "1a36f544-5329-41c9-a46a-7a923df9af59",
   "metadata": {},
   "outputs": [],
   "source": [
    "dog.home()"
   ]
  },
  {
   "cell_type": "code",
   "execution_count": 68,
   "id": "d345bd59-838f-41f5-b4af-1694f05a5634",
   "metadata": {},
   "outputs": [],
   "source": [
    "dog.disable()"
   ]
  },
  {
   "cell_type": "code",
   "execution_count": 66,
   "id": "ebff123f-2800-49a0-aa3a-bebf320801b5",
   "metadata": {},
   "outputs": [
    {
     "data": {
      "application/vnd.jupyter.widget-view+json": {
       "model_id": "024b86ad831142cc8c68c6cd3fe3495e",
       "version_major": 2,
       "version_minor": 0
      },
      "text/plain": [
       "interactive(children=(Dropdown(description='id', options=(('leg0', 0), ('leg1', 1), ('leg2', 2), ('leg3', 3)),…"
      ]
     },
     "metadata": {},
     "output_type": "display_data"
    }
   ],
   "source": [
    "from ipywidgets import interact\n",
    "from math import pi\n",
    "@interact(id = [('leg0',0), ('leg1',1), ('leg2',2), ('leg3',3)], a1=(-180,180,0.5), a2=(-180,180,0.5), a3=(-180,180,0.5))\n",
    "def leg_test(id, a1, a2, a3):\n",
    "    dog.legs[id].set_motor_degrees(a1, a2, a3)"
   ]
  },
  {
   "cell_type": "code",
   "execution_count": 40,
   "id": "c8d2b88c-87a4-4888-b122-61fb58f0de9a",
   "metadata": {},
   "outputs": [],
   "source": [
    "dog.stand()"
   ]
  },
  {
   "cell_type": "code",
   "execution_count": 34,
   "id": "4608535d-d715-4a78-ae2b-860856be8a0e",
   "metadata": {},
   "outputs": [],
   "source": [
    "def set_height(x=20, h=-250):\n",
    "    x = 20\n",
    "    for i in range(4):\n",
    "        dog.legs[i].inverse_kinemetics(x,h,Leg.LEN_D)"
   ]
  },
  {
   "cell_type": "code",
   "execution_count": 41,
   "id": "07dbabc1-e31e-4de0-8490-ce4e65110ef6",
   "metadata": {},
   "outputs": [],
   "source": [
    "set_height(20, -300)"
   ]
  },
  {
   "cell_type": "code",
   "execution_count": 39,
   "id": "426c28c7-9777-4197-861c-f79a2acad347",
   "metadata": {},
   "outputs": [],
   "source": [
    "set_height(20, -200)"
   ]
  },
  {
   "cell_type": "code",
   "execution_count": 83,
   "id": "8bb3e83f-8260-4c6f-b988-cc7c234d262c",
   "metadata": {},
   "outputs": [
    {
     "ename": "KeyboardInterrupt",
     "evalue": "",
     "output_type": "error",
     "traceback": [
      "\u001b[0;31m---------------------------------------------------------------------------\u001b[0m",
      "\u001b[0;31mKeyboardInterrupt\u001b[0m                         Traceback (most recent call last)",
      "\u001b[0;32m<ipython-input-83-038f153bdf2c>\u001b[0m in \u001b[0;36m<module>\u001b[0;34m\u001b[0m\n\u001b[1;32m      3\u001b[0m         \u001b[0mh\u001b[0m \u001b[0;34m=\u001b[0m \u001b[0;34m-\u001b[0m\u001b[0;36m300\u001b[0m \u001b[0;34m+\u001b[0m \u001b[0mi\u001b[0m \u001b[0;34m*\u001b[0m \u001b[0;36m5\u001b[0m\u001b[0;34m\u001b[0m\u001b[0;34m\u001b[0m\u001b[0m\n\u001b[1;32m      4\u001b[0m         \u001b[0mset_height\u001b[0m\u001b[0;34m(\u001b[0m\u001b[0;36m20\u001b[0m\u001b[0;34m,\u001b[0m \u001b[0mh\u001b[0m\u001b[0;34m)\u001b[0m\u001b[0;34m\u001b[0m\u001b[0;34m\u001b[0m\u001b[0m\n\u001b[0;32m----> 5\u001b[0;31m         \u001b[0mdog\u001b[0m\u001b[0;34m.\u001b[0m\u001b[0mdelay\u001b[0m\u001b[0;34m(\u001b[0m\u001b[0;36m0.1\u001b[0m\u001b[0;34m)\u001b[0m\u001b[0;34m\u001b[0m\u001b[0;34m\u001b[0m\u001b[0m\n\u001b[0m\u001b[1;32m      6\u001b[0m     \u001b[0mset_height\u001b[0m\u001b[0;34m(\u001b[0m\u001b[0;36m20\u001b[0m\u001b[0;34m,\u001b[0m \u001b[0;34m-\u001b[0m\u001b[0;36m300\u001b[0m\u001b[0;34m)\u001b[0m\u001b[0;34m\u001b[0m\u001b[0;34m\u001b[0m\u001b[0m\n\u001b[1;32m      7\u001b[0m \u001b[0;31m#     for i in range(20):\u001b[0m\u001b[0;34m\u001b[0m\u001b[0;34m\u001b[0m\u001b[0;34m\u001b[0m\u001b[0m\n",
      "\u001b[0;32m~/protobot_lib/protobot/can_bus/robot.py\u001b[0m in \u001b[0;36mdelay\u001b[0;34m(self, seconds)\u001b[0m\n\u001b[1;32m     49\u001b[0m \u001b[0;34m\u001b[0m\u001b[0m\n\u001b[1;32m     50\u001b[0m   \u001b[0;32mdef\u001b[0m \u001b[0mdelay\u001b[0m\u001b[0;34m(\u001b[0m\u001b[0mself\u001b[0m\u001b[0;34m,\u001b[0m \u001b[0mseconds\u001b[0m\u001b[0;34m)\u001b[0m\u001b[0;34m:\u001b[0m\u001b[0;34m\u001b[0m\u001b[0;34m\u001b[0m\u001b[0m\n\u001b[0;32m---> 51\u001b[0;31m     \u001b[0msleep\u001b[0m\u001b[0;34m(\u001b[0m\u001b[0mseconds\u001b[0m\u001b[0;34m)\u001b[0m\u001b[0;34m\u001b[0m\u001b[0;34m\u001b[0m\u001b[0m\n\u001b[0m\u001b[1;32m     52\u001b[0m \u001b[0;34m\u001b[0m\u001b[0m\n\u001b[1;32m     53\u001b[0m   \u001b[0;32mdef\u001b[0m \u001b[0mtime\u001b[0m\u001b[0;34m(\u001b[0m\u001b[0mself\u001b[0m\u001b[0;34m)\u001b[0m\u001b[0;34m:\u001b[0m\u001b[0;34m\u001b[0m\u001b[0;34m\u001b[0m\u001b[0m\n",
      "\u001b[0;31mKeyboardInterrupt\u001b[0m: "
     ]
    }
   ],
   "source": [
    "while True:\n",
    "    for i in range(20):\n",
    "        h = -300 + i * 5\n",
    "        set_height(20, h)\n",
    "        dog.delay(0.1)\n",
    "    set_height(20, -300)\n",
    "#     for i in range(20):\n",
    "#         h = -180 - i * 5\n",
    "#         set_height(20, h)\n",
    "#         dog.delay(0.1)\n",
    "    dog.delay(2)"
   ]
  }
 ],
 "metadata": {
  "kernelspec": {
   "display_name": "Python 3",
   "language": "python",
   "name": "python3"
  },
  "language_info": {
   "codemirror_mode": {
    "name": "ipython",
    "version": 3
   },
   "file_extension": ".py",
   "mimetype": "text/x-python",
   "name": "python",
   "nbconvert_exporter": "python",
   "pygments_lexer": "ipython3",
   "version": "3.6.9"
  }
 },
 "nbformat": 4,
 "nbformat_minor": 5
}
