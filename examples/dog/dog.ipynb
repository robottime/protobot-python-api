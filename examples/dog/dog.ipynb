{
 "cells": [
  {
   "cell_type": "code",
   "execution_count": 1,
   "id": "a441339a-e5d9-44d1-9c0f-12f15a61fc70",
   "metadata": {},
   "outputs": [],
   "source": [
    "from dog import *\n",
    "dog = Dog()"
   ]
  },
  {
   "cell_type": "code",
   "execution_count": 41,
   "id": "1431141d-f1a2-4afd-b956-b083000595b0",
   "metadata": {
    "collapsed": true,
    "jupyter": {
     "outputs_hidden": true
    },
    "tags": []
   },
   "outputs": [
    {
     "name": "stdout",
     "output_type": "stream",
     "text": [
      "Motors:\n",
      "LEG1_M0: \n",
      "Disabled\n",
      "LEG1_M1: \n",
      "Disabled\n",
      "LEG1_M2: \n",
      "Disabled\n",
      "LEG2_M0: \n",
      "Disabled\n",
      "LEG2_M1: \n",
      "Disabled\n",
      "LEG2_M2: \n",
      "Disabled\n",
      "LEG3_M0: \n",
      "Disabled\n",
      "LEG3_M1: \n",
      "Disabled\n",
      "LEG3_M2: \n",
      "Disabled\n",
      "LEG4_M0: \n",
      "Disabled\n",
      "LEG4_M1: \n",
      "Disabled\n",
      "LEG4_M2: \n",
      "Disabled\n"
     ]
    },
    {
     "data": {
      "text/plain": [
       "{'motors': [{'LEG1_M0': {'state': 1,\n",
       "    'error': 0,\n",
       "    'motor_err': 0,\n",
       "    'encoder_err': 0,\n",
       "    'controller_err': 0,\n",
       "    'control_mode': 0,\n",
       "    'input_mode': 0,\n",
       "    'update_rate': 0.835625171661377}},\n",
       "  {'LEG1_M1': {'state': 1,\n",
       "    'error': 0,\n",
       "    'motor_err': 0,\n",
       "    'encoder_err': 0,\n",
       "    'controller_err': 0,\n",
       "    'control_mode': 0,\n",
       "    'input_mode': 0,\n",
       "    'update_rate': 0.8334176540374756}},\n",
       "  {'LEG1_M2': {'state': 1,\n",
       "    'error': 0,\n",
       "    'motor_err': 0,\n",
       "    'encoder_err': 0,\n",
       "    'controller_err': 0,\n",
       "    'control_mode': 0,\n",
       "    'input_mode': 0,\n",
       "    'update_rate': 0.8384053707122803}},\n",
       "  {'LEG2_M0': {'state': 1,\n",
       "    'error': 0,\n",
       "    'motor_err': 0,\n",
       "    'encoder_err': 0,\n",
       "    'controller_err': 0,\n",
       "    'control_mode': 0,\n",
       "    'input_mode': 0,\n",
       "    'update_rate': 0.8350293636322021}},\n",
       "  {'LEG2_M1': {'state': 1,\n",
       "    'error': 0,\n",
       "    'motor_err': 0,\n",
       "    'encoder_err': 0,\n",
       "    'controller_err': 0,\n",
       "    'control_mode': 0,\n",
       "    'input_mode': 0,\n",
       "    'update_rate': 0.8358685970306396}},\n",
       "  {'LEG2_M2': {'state': 1,\n",
       "    'error': 0,\n",
       "    'motor_err': 0,\n",
       "    'encoder_err': 0,\n",
       "    'controller_err': 0,\n",
       "    'control_mode': 0,\n",
       "    'input_mode': 0,\n",
       "    'update_rate': 0.8431782722473145}},\n",
       "  {'LEG3_M0': {'state': 1,\n",
       "    'error': 0,\n",
       "    'motor_err': 0,\n",
       "    'encoder_err': 0,\n",
       "    'controller_err': 0,\n",
       "    'control_mode': 0,\n",
       "    'input_mode': 0,\n",
       "    'update_rate': 0.8396139144897461}},\n",
       "  {'LEG3_M1': {'state': 1,\n",
       "    'error': 0,\n",
       "    'motor_err': 0,\n",
       "    'encoder_err': 0,\n",
       "    'controller_err': 0,\n",
       "    'control_mode': 0,\n",
       "    'input_mode': 0,\n",
       "    'update_rate': 0.8397901058197021}},\n",
       "  {'LEG3_M2': {'state': 1,\n",
       "    'error': 0,\n",
       "    'motor_err': 0,\n",
       "    'encoder_err': 0,\n",
       "    'controller_err': 0,\n",
       "    'control_mode': 0,\n",
       "    'input_mode': 0,\n",
       "    'update_rate': 0.8520200252532959}},\n",
       "  {'LEG4_M0': {'state': 1,\n",
       "    'error': 0,\n",
       "    'motor_err': 0,\n",
       "    'encoder_err': 0,\n",
       "    'controller_err': 0,\n",
       "    'control_mode': 0,\n",
       "    'input_mode': 0,\n",
       "    'update_rate': 0.840949535369873}},\n",
       "  {'LEG4_M1': {'state': 1,\n",
       "    'error': 0,\n",
       "    'motor_err': 0,\n",
       "    'encoder_err': 0,\n",
       "    'controller_err': 0,\n",
       "    'control_mode': 0,\n",
       "    'input_mode': 0,\n",
       "    'update_rate': 0.8478286266326904}},\n",
       "  {'LEG4_M2': {'state': 1,\n",
       "    'error': 0,\n",
       "    'motor_err': 0,\n",
       "    'encoder_err': 0,\n",
       "    'controller_err': 0,\n",
       "    'control_mode': 0,\n",
       "    'input_mode': 0,\n",
       "    'update_rate': 0.8414733409881592}}]}"
      ]
     },
     "execution_count": 41,
     "metadata": {},
     "output_type": "execute_result"
    }
   ],
   "source": [
    "dog.status()"
   ]
  },
  {
   "cell_type": "code",
   "execution_count": 2,
   "id": "2b53b318-d31f-4a14-9946-2f0462469bb3",
   "metadata": {},
   "outputs": [],
   "source": [
    "dog.clear_errors()"
   ]
  },
  {
   "cell_type": "code",
   "execution_count": 7,
   "id": "a5fd317a-e41d-450a-a402-a56f76d014fa",
   "metadata": {
    "tags": []
   },
   "outputs": [],
   "source": [
    "dog.save_configuration()"
   ]
  },
  {
   "cell_type": "code",
   "execution_count": 48,
   "id": "2fb1a7bf-45ec-4e4a-85e4-8c129f063feb",
   "metadata": {},
   "outputs": [],
   "source": [
    "dog.init()"
   ]
  },
  {
   "cell_type": "code",
   "execution_count": 10,
   "id": "16335885-11d7-4230-ac6a-d2c3d80a91e1",
   "metadata": {},
   "outputs": [],
   "source": [
    "dog.home()"
   ]
  },
  {
   "cell_type": "code",
   "execution_count": 49,
   "id": "24ad7707-e20c-4178-82f5-ad451f6a01c9",
   "metadata": {},
   "outputs": [],
   "source": [
    "dog.enable()"
   ]
  },
  {
   "cell_type": "code",
   "execution_count": 6,
   "id": "e2cb7452-75ab-49a5-8d89-93b3cf08ef7e",
   "metadata": {},
   "outputs": [],
   "source": [
    "dog.disable()"
   ]
  },
  {
   "cell_type": "code",
   "execution_count": 2,
   "id": "89bf752f-d951-41f3-be4c-01add3488261",
   "metadata": {},
   "outputs": [],
   "source": [
    "dog.init_from_floor()"
   ]
  },
  {
   "cell_type": "code",
   "execution_count": 8,
   "id": "a1ae67f1-c595-451f-a1f6-3764b2869264",
   "metadata": {
    "tags": []
   },
   "outputs": [],
   "source": [
    "dog.rest()"
   ]
  },
  {
   "cell_type": "markdown",
   "id": "e28fd979-1bc4-4260-a424-b5c7633ce144",
   "metadata": {
    "tags": []
   },
   "source": [
    "### 电机参数设置"
   ]
  },
  {
   "cell_type": "code",
   "execution_count": 6,
   "id": "da617603-7302-42ef-a560-ffedd17124cd",
   "metadata": {
    "tags": []
   },
   "outputs": [
    {
     "name": "stdout",
     "output_type": "stream",
     "text": [
      "[3, 3, 12.0]\n",
      "(100.0, 0.0200042724609375, 0.0)\n",
      "(40.0, 10.0)\n",
      "[3, 3, 12.0]\n",
      "(100.0, 0.0200042724609375, 0.0)\n",
      "(40.0, 10.0)\n",
      "[3, 3, 12.0]\n",
      "(100.0, 0.0200042724609375, 0.0)\n",
      "(40.0, 10.0)\n"
     ]
    }
   ],
   "source": [
    "leg = dog.legs[3]\n",
    "for i in range(3):\n",
    "    motor = leg.motor(i)\n",
    "    motor.set_controller_pid(100, 0.02, 0)\n",
    "    motor.set_limits(40,10)\n",
    "    motor.position_filter_mode(12)\n",
    "    print(motor.get_controller_modes())\n",
    "    print(motor.get_controller_pid())\n",
    "    print(motor.get_limits())"
   ]
  },
  {
   "cell_type": "code",
   "execution_count": 10,
   "id": "67df3964-c45e-4142-9338-3947f3b863d0",
   "metadata": {},
   "outputs": [
    {
     "name": "stdout",
     "output_type": "stream",
     "text": [
      "0.5116194178933071\n",
      "-0.5765869630226159\n",
      "-0.26286210693766404\n",
      "-0.22353964541202975\n"
     ]
    }
   ],
   "source": [
    "print(dog.legs[0].motor(2).get_torque())\n",
    "print(dog.legs[1].motor(2).get_torque())\n",
    "print(dog.legs[2].motor(2).get_torque())\n",
    "print(dog.legs[3].motor(2).get_torque())"
   ]
  },
  {
   "cell_type": "markdown",
   "id": "1d4a55c5-c588-47e2-94e6-2fdc17b10def",
   "metadata": {},
   "source": [
    "### 单腿正运动学实验"
   ]
  },
  {
   "cell_type": "code",
   "execution_count": 5,
   "id": "ebff123f-2800-49a0-aa3a-bebf320801b5",
   "metadata": {},
   "outputs": [
    {
     "data": {
      "application/vnd.jupyter.widget-view+json": {
       "model_id": "e57a0545ae264036a1ad71b0665e0cc8",
       "version_major": 2,
       "version_minor": 0
      },
      "text/plain": [
       "interactive(children=(Dropdown(description='id', options=(('leg0', 0), ('leg1', 1), ('leg2', 2), ('leg3', 3)),…"
      ]
     },
     "metadata": {},
     "output_type": "display_data"
    }
   ],
   "source": [
    "from ipywidgets import interact\n",
    "@interact(id = [('leg0',0), ('leg1',1), ('leg2',2), ('leg3',3)], a1=(-30,30,0.5), a2=(-30,30,0.5), a3=(-30,30,0.5))\n",
    "def leg_test(id, a1, a2, a3):\n",
    "    dog.legs[id].set_motor_degrees(a1, a2, a3)"
   ]
  },
  {
   "cell_type": "markdown",
   "id": "a9db7aa7-9ab8-404d-a18a-06cb5f7eb981",
   "metadata": {},
   "source": [
    "### 单腿逆运动学实验"
   ]
  },
  {
   "cell_type": "code",
   "execution_count": 9,
   "id": "127a9e1f-297c-4ce3-860d-d5e228d37134",
   "metadata": {},
   "outputs": [
    {
     "data": {
      "application/vnd.jupyter.widget-view+json": {
       "model_id": "43b3790fd7c04905bc167a747fb61c39",
       "version_major": 2,
       "version_minor": 0
      },
      "text/plain": [
       "interactive(children=(Dropdown(description='id', options=(('leg0', 0), ('leg1', 1), ('leg2', 2), ('leg3', 3)),…"
      ]
     },
     "metadata": {},
     "output_type": "display_data"
    }
   ],
   "source": [
    "from ipywidgets import interact\n",
    "@interact(id = [('leg0',0), ('leg1',1), ('leg2',2), ('leg3',3)], mirror = False, x=(-30,30,0.5), y=(50,110,0.5), z=(200,300,0.5))\n",
    "def leg_inv_test(id,mirror, x = 0, y = Leg.LEN_D, z = 240):\n",
    "    dog.legs[id].inverse_kinemetics(x, y, z, mirror)"
   ]
  },
  {
   "cell_type": "markdown",
   "id": "f311582a-af64-4d0f-a40b-e9ae691aad2b",
   "metadata": {},
   "source": [
    "### 整机逆运动学实验"
   ]
  },
  {
   "cell_type": "code",
   "execution_count": 6,
   "id": "6fcca821-d8e1-4fa4-b591-d21b480e3042",
   "metadata": {},
   "outputs": [
    {
     "data": {
      "application/vnd.jupyter.widget-view+json": {
       "model_id": "8b6ab3268afb40a1b0d5096ab073f5e8",
       "version_major": 2,
       "version_minor": 0
      },
      "text/plain": [
       "interactive(children=(FloatSlider(value=0.0, description='dx', max=20.0, min=-20.0, step=0.5), FloatSlider(val…"
      ]
     },
     "metadata": {},
     "output_type": "display_data"
    }
   ],
   "source": [
    "from ipywidgets import interact\n",
    "from math import pi\n",
    "@interact(dx=(-20,20,0.5), dy=(-30,30,0.5),dz=(-30,30,0.5),roll=(-20,20,0.5), pitch=(-10,10,0.5), yaw=(-15,15,0.5))\n",
    "def pose_test(dx,dy,dz,roll, pitch, yaw):\n",
    "    dog.body_pose(dx,dy,dz,roll/180.0*pi, pitch/180.0*pi, yaw/180.0*pi)"
   ]
  },
  {
   "cell_type": "markdown",
   "id": "fa1897bc-93d1-4fcb-9383-92c77e292d6b",
   "metadata": {},
   "source": [
    "### 轨迹函数"
   ]
  },
  {
   "cell_type": "code",
   "execution_count": 7,
   "id": "ac5d0071-3e91-4609-af9e-a08c313ea115",
   "metadata": {},
   "outputs": [],
   "source": [
    "from math import pi, copysign\n",
    "def cycloid_swing(S, H, phase): # phase = t / SWING_T\n",
    "    s = S * (phase - sin(2*pi*phase)/(2*pi))\n",
    "    h = H * (2*phase-sin(4*pi*phase)/(2*pi)-1) * copysign(1, (0.5-phase)) + H\n",
    "    return (s, h)\n",
    "def cycloid_stance(S, phase): # phase = t / STANCE_T\n",
    "    s = S * (1 - phase + sin(2*pi*phase)/(2*pi))\n",
    "    h = 0\n",
    "    return (s, h)\n",
    "def linear_stance(S, phase): # phase = t / STANCE_T\n",
    "    s = S *(1 - phase)\n",
    "    h = 0\n",
    "    return (s, h)"
   ]
  },
  {
   "cell_type": "code",
   "execution_count": 174,
   "id": "f7c7c448-8e35-4cd9-9d20-d03fbc9cf011",
   "metadata": {
    "collapsed": true,
    "jupyter": {
     "outputs_hidden": true,
     "source_hidden": true
    },
    "tags": []
   },
   "outputs": [
    {
     "data": {
      "text/plain": [
       "[<matplotlib.lines.Line2D at 0x7f749bdcc0>]"
      ]
     },
     "execution_count": 174,
     "metadata": {},
     "output_type": "execute_result"
    },
    {
     "data": {
      "image/png": "[encoded data removed]",
      "text/plain": [
       "<Figure size 432x288 with 1 Axes>"
      ]
     },
     "metadata": {
      "needs_background": "light"
     },
     "output_type": "display_data"
    }
   ],
   "source": [
    "import matplotlib.pyplot as plt\n",
    "s = []\n",
    "h = []\n",
    "for i in range(101):\n",
    "    ts, th = cycloid_swing(90, 30, i/100.0)\n",
    "#     ts,th = cycloid_stance(30, i/100.0)\n",
    "#     ts,th = linear_stance(30, i/100.0)\n",
    "    s.append(ts)\n",
    "    h.append(th)\n",
    "plt.plot(s,h, 'o')  # Plot some data on the axes."
   ]
  },
  {
   "cell_type": "code",
   "execution_count": 70,
   "id": "c438fe13-543f-4754-bae8-130d5322f9d9",
   "metadata": {},
   "outputs": [],
   "source": [
    "dog.legs[0].inverse_kinemetics(0,0,260,True)\n",
    "dog.legs[1].inverse_kinemetics(0,0,260,True)\n",
    "dog.legs[2].inverse_kinemetics(0,0,260)\n",
    "dog.legs[3].inverse_kinemetics(0,0,260)"
   ]
  },
  {
   "cell_type": "code",
   "execution_count": 71,
   "id": "405026b4-a9ac-4e91-a077-f02d1d572807",
   "metadata": {},
   "outputs": [],
   "source": [
    "dog.mirror()"
   ]
  },
  {
   "cell_type": "code",
   "execution_count": 69,
   "id": "65cbcdb3-fe42-4d22-861b-98add878148a",
   "metadata": {},
   "outputs": [
    {
     "ename": "KeyboardInterrupt",
     "evalue": "",
     "output_type": "error",
     "traceback": [
      "\u001b[0;31m---------------------------------------------------------------------------\u001b[0m",
      "\u001b[0;31mKeyboardInterrupt\u001b[0m                         Traceback (most recent call last)",
      "\u001b[0;32m<ipython-input-69-774518352cf6>\u001b[0m in \u001b[0;36m<module>\u001b[0;34m\u001b[0m\n\u001b[1;32m     34\u001b[0m \u001b[0;34m\u001b[0m\u001b[0m\n\u001b[1;32m     35\u001b[0m \u001b[0mtrot\u001b[0m\u001b[0;34m(\u001b[0m\u001b[0;36m0\u001b[0m\u001b[0;34m,\u001b[0m\u001b[0;36m50\u001b[0m\u001b[0;34m,\u001b[0m\u001b[0;36m0.55\u001b[0m\u001b[0;34m,\u001b[0m \u001b[0;36m5.5\u001b[0m\u001b[0;34m)\u001b[0m\u001b[0;34m\u001b[0m\u001b[0;34m\u001b[0m\u001b[0m\n\u001b[0;32m---> 36\u001b[0;31m \u001b[0mtrot\u001b[0m\u001b[0;34m(\u001b[0m\u001b[0;36m30\u001b[0m\u001b[0;34m,\u001b[0m \u001b[0;36m50\u001b[0m\u001b[0;34m,\u001b[0m \u001b[0;36m0.55\u001b[0m\u001b[0;34m)\u001b[0m\u001b[0;34m\u001b[0m\u001b[0;34m\u001b[0m\u001b[0m\n\u001b[0m",
      "\u001b[0;32m<ipython-input-69-774518352cf6>\u001b[0m in \u001b[0;36mtrot\u001b[0;34m(S, H, T, duration)\u001b[0m\n\u001b[1;32m     31\u001b[0m         \u001b[0mdog\u001b[0m\u001b[0;34m.\u001b[0m\u001b[0mlegs\u001b[0m\u001b[0;34m[\u001b[0m\u001b[0;36m2\u001b[0m\u001b[0;34m]\u001b[0m\u001b[0;34m.\u001b[0m\u001b[0minverse_kinemetics\u001b[0m\u001b[0;34m(\u001b[0m\u001b[0mds1\u001b[0m\u001b[0;34m,\u001b[0m \u001b[0my0\u001b[0m\u001b[0;34m,\u001b[0m \u001b[0mz0\u001b[0m \u001b[0;34m-\u001b[0m \u001b[0mdh1\u001b[0m\u001b[0;34m)\u001b[0m\u001b[0;34m\u001b[0m\u001b[0;34m\u001b[0m\u001b[0m\n\u001b[1;32m     32\u001b[0m \u001b[0;34m\u001b[0m\u001b[0m\n\u001b[0;32m---> 33\u001b[0;31m         \u001b[0mdog\u001b[0m\u001b[0;34m.\u001b[0m\u001b[0mdelay\u001b[0m\u001b[0;34m(\u001b[0m\u001b[0;36m0.05\u001b[0m\u001b[0;34m)\u001b[0m\u001b[0;34m\u001b[0m\u001b[0;34m\u001b[0m\u001b[0m\n\u001b[0m\u001b[1;32m     34\u001b[0m \u001b[0;34m\u001b[0m\u001b[0m\n\u001b[1;32m     35\u001b[0m \u001b[0mtrot\u001b[0m\u001b[0;34m(\u001b[0m\u001b[0;36m0\u001b[0m\u001b[0;34m,\u001b[0m\u001b[0;36m50\u001b[0m\u001b[0;34m,\u001b[0m\u001b[0;36m0.55\u001b[0m\u001b[0;34m,\u001b[0m \u001b[0;36m5.5\u001b[0m\u001b[0;34m)\u001b[0m\u001b[0;34m\u001b[0m\u001b[0;34m\u001b[0m\u001b[0m\n",
      "\u001b[0;32m~/protobot_lib/protobot/can_bus/robot.py\u001b[0m in \u001b[0;36mdelay\u001b[0;34m(self, seconds)\u001b[0m\n\u001b[1;32m     47\u001b[0m \u001b[0;34m\u001b[0m\u001b[0m\n\u001b[1;32m     48\u001b[0m     \u001b[0;32mdef\u001b[0m \u001b[0mdelay\u001b[0m\u001b[0;34m(\u001b[0m\u001b[0mself\u001b[0m\u001b[0;34m,\u001b[0m \u001b[0mseconds\u001b[0m\u001b[0;34m)\u001b[0m\u001b[0;34m:\u001b[0m\u001b[0;34m\u001b[0m\u001b[0;34m\u001b[0m\u001b[0m\n\u001b[0;32m---> 49\u001b[0;31m         \u001b[0msleep\u001b[0m\u001b[0;34m(\u001b[0m\u001b[0mseconds\u001b[0m\u001b[0;34m)\u001b[0m\u001b[0;34m\u001b[0m\u001b[0;34m\u001b[0m\u001b[0m\n\u001b[0m\u001b[1;32m     50\u001b[0m \u001b[0;34m\u001b[0m\u001b[0m\n\u001b[1;32m     51\u001b[0m     \u001b[0;32mdef\u001b[0m \u001b[0mtime\u001b[0m\u001b[0;34m(\u001b[0m\u001b[0mself\u001b[0m\u001b[0;34m)\u001b[0m\u001b[0;34m:\u001b[0m\u001b[0;34m\u001b[0m\u001b[0;34m\u001b[0m\u001b[0m\n",
      "\u001b[0;31mKeyboardInterrupt\u001b[0m: "
     ]
    }
   ],
   "source": [
    "from math import fmod\n",
    "dog.filter_mode(20)\n",
    "dog.delay(1)\n",
    "def trot(S, H, T, duration = float('inf')):\n",
    "#     x0 = 20\n",
    "#     y0 = Leg.LEN_D\n",
    "    x0 = -20\n",
    "    y0 = 0\n",
    "    z0 = 260\n",
    "    t0 = dog.time()\n",
    "    while True:\n",
    "        if dog.time() - t0 > duration:\n",
    "            break\n",
    "        phase = fmod(dog.time()-t0, T) / T\n",
    "        ds0 = 0\n",
    "        dh0 = 0\n",
    "        ds1 = 0\n",
    "        dh1 = 0\n",
    "        if phase < 0.5:\n",
    "            ds0, dh0 = cycloid_stance(S, phase * 2)\n",
    "            ds1, dh1 = cycloid_swing(S, H, phase * 2)\n",
    "        else:\n",
    "            ds0, dh0 = cycloid_swing(S, H, phase * 2 - 1)\n",
    "            ds1, dh1 = cycloid_stance(S, phase * 2 - 1)\n",
    "            \n",
    "        if dog.time() - t0 >= T / 2:\n",
    "            dog.legs[0].inverse_kinemetics(ds0 , y0, z0 - dh0, True)\n",
    "            dog.legs[3].inverse_kinemetics(ds0, y0, z0 - dh0)\n",
    "\n",
    "        dog.legs[1].inverse_kinemetics(ds1, y0, z0  - dh1, True)\n",
    "        dog.legs[2].inverse_kinemetics(ds1, y0, z0 - dh1)\n",
    "            \n",
    "        dog.delay(0.05)\n",
    "            \n",
    "trot(0,50,0.55, 5.5)\n",
    "trot(30, 50, 0.55)"
   ]
  },
  {
   "cell_type": "code",
   "execution_count": null,
   "id": "f4ad414c-6392-4169-a404-c88f2db6516d",
   "metadata": {},
   "outputs": [],
   "source": [
    "from math import fmod\n",
    "dog.filter_mode(20)\n",
    "dog.delay(1)\n",
    "def walk(S, H, T, duration = float('inf')):\n",
    "#     x0 = 20\n",
    "#     y0 = Leg.LEN_D\n",
    "    x0 = -20\n",
    "    y0 = 0\n",
    "    z0 = 260\n",
    "    t0 = dog.time()\n",
    "    while True:\n",
    "        if dog.time() - t0 > duration:\n",
    "            break\n",
    "        phase = fmod(dog.time()-t0, T) / T\n",
    "        ds0 = 0\n",
    "        dh0 = 0\n",
    "        ds1 = 0\n",
    "        dh1 = 0\n",
    "        if phase < 0.5:\n",
    "            ds0, dh0 = cycloid_stance(S, phase * 2)\n",
    "            ds1, dh1 = cycloid_swing(S, H, phase * 2)\n",
    "        else:\n",
    "            ds0, dh0 = cycloid_swing(S, H, phase * 2 - 1)\n",
    "            ds1, dh1 = cycloid_stance(S, phase * 2 - 1)\n",
    "            \n",
    "        if dog.time() - t0 >= T / 2:\n",
    "            dog.legs[0].inverse_kinemetics(ds0 , y0, z0 - dh0, True)\n",
    "            dog.legs[3].inverse_kinemetics(ds0, y0, z0 - dh0)\n",
    "\n",
    "        dog.legs[1].inverse_kinemetics(ds1, y0, z0  - dh1, True)\n",
    "        dog.legs[2].inverse_kinemetics(ds1, y0, z0 - dh1)\n",
    "            \n",
    "        dog.delay(0.05)\n",
    "            \n",
    "trot(0,50,0.55, 5.5)\n",
    "trot(30, 50, 0.55)"
   ]
  },
  {
   "cell_type": "code",
   "execution_count": 9,
   "id": "04168a17-ce72-4f7a-b90d-02a3f7e0af72",
   "metadata": {},
   "outputs": [
    {
     "data": {
      "text/plain": [
       "11.946374893188477"
      ]
     },
     "execution_count": 9,
     "metadata": {},
     "output_type": "execute_result"
    }
   ],
   "source": [
    "dog.battery.get_voltage()"
   ]
  },
  {
   "cell_type": "code",
   "execution_count": 3,
   "id": "73230893-0d75-44a2-94b5-7f25ec481a89",
   "metadata": {},
   "outputs": [
    {
     "data": {
      "text/plain": [
       "True"
      ]
     },
     "execution_count": 3,
     "metadata": {},
     "output_type": "execute_result"
    }
   ],
   "source": [
    "dog.battery.set_led(0, 5, [0,255,255])"
   ]
  },
  {
   "cell_type": "code",
   "execution_count": 12,
   "id": "a49ffeed-2593-4de3-9c75-b8e2c2e67f8f",
   "metadata": {},
   "outputs": [
    {
     "data": {
      "text/plain": [
       "[1.5759735119540106, 0.004793689962142629, 3.1123511448207233]"
      ]
     },
     "execution_count": 12,
     "metadata": {},
     "output_type": "execute_result"
    }
   ],
   "source": [
    "dog.battery.get_gyro()"
   ]
  },
  {
   "cell_type": "code",
   "execution_count": null,
   "id": "d5792f33-27c5-471d-92e0-5523cfb67a37",
   "metadata": {},
   "outputs": [],
   "source": []
  }
 ],
 "metadata": {
  "kernelspec": {
   "display_name": "Python 3",
   "language": "python",
   "name": "python3"
  },
  "language_info": {
   "codemirror_mode": {
    "name": "ipython",
    "version": 3
   },
   "file_extension": ".py",
   "mimetype": "text/x-python",
   "name": "python",
   "nbconvert_exporter": "python",
   "pygments_lexer": "ipython3",
   "version": "3.6.9"
  }
 },
 "nbformat": 4,
 "nbformat_minor": 5
}
