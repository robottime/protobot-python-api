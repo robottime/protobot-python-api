{
 "cells": [
  {
   "cell_type": "markdown",
   "id": "09ebfcde",
   "metadata": {},
   "source": [
    "# 机械臂整机控制例程"
   ]
  },
  {
   "cell_type": "code",
   "execution_count": 1,
   "id": "65065134-3702-41d2-9ccf-eefdfc9d1e5d",
   "metadata": {},
   "outputs": [],
   "source": [
    "from six_dof_arm import SixDofArm\n",
    "arm=SixDofArm()"
   ]
  },
  {
   "cell_type": "code",
   "execution_count": 2,
   "id": "17a3bf97-850d-4047-aabb-ff13ac6dacd0",
   "metadata": {},
   "outputs": [],
   "source": [
    "arm.enable()"
   ]
  },
  {
   "cell_type": "code",
   "execution_count": 9,
   "id": "189aa1d5-2547-4bf6-9f93-087c53b18478",
   "metadata": {
    "tags": []
   },
   "outputs": [
    {
     "data": {
      "application/vnd.jupyter.widget-view+json": {
       "model_id": "321fad598adc48d9a374fb30cc38130c",
       "version_major": 2,
       "version_minor": 0
      },
      "text/plain": [
       "interactive(children=(FloatSlider(value=-0.0007963267948964958, description='a1', max=1.5707963267948966, min=…"
      ]
     },
     "metadata": {},
     "output_type": "display_data"
    }
   ],
   "source": [
    "from ipywidgets import interact\n",
    "from math import pi\n",
    "@interact(a1=(-pi/2, pi/2, 0.01), a2=(-pi/2, pi/2, 0.01), a3=(-pi/2, pi/2, 0.01), a4=(-pi/2, pi/2, 0.01), a5=(-pi/2, pi/2, 0.01), a6=(-pi/2, pi/2, 0.01), d=(0,1,1))\n",
    "def calibrate(a1, a2, a3, a4, a5, a6, d=0):\n",
    "    arm.set_motor_pos(0, a1)\n",
    "    arm.set_motor_pos(1, a2)\n",
    "    arm.set_motor_pos(2, a3)\n",
    "    arm.set_motor_pos(3, a4)\n",
    "    arm.set_motor_pos(4, a5)\n",
    "    arm.set_motor_pos(5, a6)\n",
    "    arm.set_nozzel(d)"
   ]
  },
  {
   "cell_type": "markdown",
   "id": "7050ed41",
   "metadata": {},
   "source": [
    "#### 初始化机械臂"
   ]
  },
  {
   "cell_type": "code",
   "execution_count": 7,
   "id": "9f0619dd",
   "metadata": {
    "tags": []
   },
   "outputs": [],
   "source": [
    "arm.init()"
   ]
  },
  {
   "cell_type": "markdown",
   "id": "83d5945d",
   "metadata": {},
   "source": [
    "#### 运动测试位置1"
   ]
  },
  {
   "cell_type": "code",
   "execution_count": 55,
   "id": "8de9f8ae",
   "metadata": {},
   "outputs": [],
   "source": [
    "arm.pose1()"
   ]
  },
  {
   "cell_type": "markdown",
   "id": "15efe61d",
   "metadata": {},
   "source": [
    "#### 运动测试位置2"
   ]
  },
  {
   "cell_type": "code",
   "execution_count": 56,
   "id": "ba91ce82",
   "metadata": {},
   "outputs": [],
   "source": [
    "arm.pose2()"
   ]
  },
  {
   "cell_type": "markdown",
   "id": "497a4be8",
   "metadata": {},
   "source": [
    "#### 机械臂复位"
   ]
  },
  {
   "cell_type": "code",
   "execution_count": 10,
   "id": "2265737a",
   "metadata": {},
   "outputs": [],
   "source": [
    "arm.home(0.14)"
   ]
  },
  {
   "cell_type": "markdown",
   "id": "8f7efc59-de2f-4d6a-aa25-30a1ab41b003",
   "metadata": {},
   "source": [
    "#### 逆运动学测试"
   ]
  },
  {
   "cell_type": "code",
   "execution_count": 11,
   "id": "f373fb3c-8071-4be4-bb68-a59c050714cc",
   "metadata": {},
   "outputs": [],
   "source": [
    "arm.inverse_kinemetics(x=-0.2, y=0.1, z=0.3, max_vel=0.1, sol_id=2)"
   ]
  }
 ],
 "metadata": {
  "kernelspec": {
   "display_name": "Python 3",
   "language": "python",
   "name": "python3"
  },
  "language_info": {
   "codemirror_mode": {
    "name": "ipython",
    "version": 3
   },
   "file_extension": ".py",
   "mimetype": "text/x-python",
   "name": "python",
   "nbconvert_exporter": "python",
   "pygments_lexer": "ipython3",
   "version": "3.6.9"
  }
 },
 "nbformat": 4,
 "nbformat_minor": 5
}
