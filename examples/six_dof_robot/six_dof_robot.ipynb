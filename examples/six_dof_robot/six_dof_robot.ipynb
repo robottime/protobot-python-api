{
 "cells": [
  {
   "cell_type": "markdown",
   "metadata": {},
   "source": [
    "# 机械臂整机控制例程"
   ]
  },
  {
   "cell_type": "code",
   "execution_count": 1,
   "metadata": {},
   "outputs": [],
   "source": [
    "from six_dof_arm import SixDofArm\n",
    "arm=SixDofArm()"
   ]
  },
  {
   "cell_type": "code",
   "execution_count": 2,
   "metadata": {},
   "outputs": [],
   "source": [
    "arm.enable()"
   ]
  },
  {
   "cell_type": "code",
   "execution_count": 9,
   "metadata": {
    "tags": []
   },
   "outputs": [
    {
     "data": {
      "application/vnd.jupyter.widget-view+json": {
       "model_id": "321fad598adc48d9a374fb30cc38130c",
       "version_major": 2,
       "version_minor": 0
      },
      "text/plain": [
       "interactive(children=(FloatSlider(value=-0.0007963267948964958, description='a1', max=1.5707963267948966, min=…"
      ]
     },
     "metadata": {},
     "output_type": "display_data"
    }
   ],
   "source": [
    "from ipywidgets import interact\n",
    "from math import pi\n",
    "@interact(a1=(-pi/2, pi/2, 0.01), a2=(-pi/2, pi/2, 0.01), a3=(-pi/2, pi/2, 0.01), a4=(-pi/2, pi/2, 0.01), a5=(-pi/2, pi/2, 0.01), a6=(-pi/2, pi/2, 0.01), d=(0,1,1))\n",
    "def calibrate(a1, a2, a3, a4, a5, a6, d=0):\n",
    "    arm.set_motor_pos(0, a1)\n",
    "    arm.set_motor_pos(1, a2)\n",
    "    arm.set_motor_pos(2, a3)\n",
    "    arm.set_motor_pos(3, a4)\n",
    "    arm.set_motor_pos(4, a5)\n",
    "    arm.set_motor_pos(5, a6)\n",
    "    arm.set_nozzel(d)"
   ]
  },
  {
   "cell_type": "markdown",
   "metadata": {},
   "source": [
    "#### 初始化机械臂"
   ]
  },
  {
   "cell_type": "code",
   "execution_count": 7,
   "metadata": {
    "tags": []
   },
   "outputs": [],
   "source": [
    "arm.init()"
   ]
  },
  {
   "cell_type": "markdown",
   "metadata": {},
   "source": [
    "#### 运动测试位置1"
   ]
  },
  {
   "cell_type": "code",
   "execution_count": 55,
   "metadata": {},
   "outputs": [],
   "source": [
    "arm.pose1()"
   ]
  },
  {
   "cell_type": "markdown",
   "metadata": {},
   "source": [
    "#### 运动测试位置2"
   ]
  },
  {
   "cell_type": "code",
   "execution_count": 56,
   "metadata": {},
   "outputs": [],
   "source": [
    "arm.pose2()"
   ]
  },
  {
   "cell_type": "markdown",
   "metadata": {},
   "source": [
    "#### 机械臂复位"
   ]
  },
  {
   "cell_type": "code",
   "execution_count": 10,
   "metadata": {},
   "outputs": [],
   "source": [
    "arm.home()"
   ]
  },
  {
   "cell_type": "markdown",
   "metadata": {},
   "source": [
    "#### 逆运动学测试"
   ]
  },
  {
   "cell_type": "code",
   "execution_count": 11,
   "metadata": {},
   "outputs": [],
   "source": [
    "arm.inverse_kinemetics(x=-0.2, y=0.1, z=0.3, max_vel=0.1, sol_id=2)"
   ]
  }
 ],
 "metadata": {
  "kernelspec": {
   "display_name": "Python 3",
   "language": "python",
   "name": "python3"
  },
  "language_info": {
   "codemirror_mode": {
    "name": "ipython",
    "version": 3
   },
   "file_extension": ".py",
   "mimetype": "text/x-python",
   "name": "python",
   "nbconvert_exporter": "python",
   "pygments_lexer": "ipython3",
   "version": "3.6.9"
  }
 },
 "nbformat": 4,
 "nbformat_minor": 5
}