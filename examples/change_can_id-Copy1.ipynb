{
 "cells": [
  {
   "cell_type": "markdown",
   "id": "subtle-acrobat",
   "metadata": {},
   "source": [
    "# 修改电机ID"
   ]
  },
  {
   "cell_type": "markdown",
   "id": "alike-clothing",
   "metadata": {},
   "source": [
    "初始化电机"
   ]
  },
  {
   "cell_type": "code",
   "execution_count": 1,
   "id": "educated-locking",
   "metadata": {},
   "outputs": [],
   "source": [
    "from protobot.can_bus import Robot\n",
    "robot = Robot('can0')\n",
    "motor = robot.add_motor(name='M1', can_id = 0x10, reduction = 44)"
   ]
  },
  {
   "cell_type": "markdown",
   "id": "collect-element",
   "metadata": {},
   "source": [
    "设置新id"
   ]
  },
  {
   "cell_type": "code",
   "execution_count": 2,
   "id": "prepared-appraisal",
   "metadata": {},
   "outputs": [],
   "source": [
    "new_id = 0x12\n",
    "motor.set_can_id(new_id)"
   ]
  },
  {
   "cell_type": "markdown",
   "id": "economic-distinction",
   "metadata": {},
   "source": [
    "定义新电机对象保存设置"
   ]
  },
  {
   "cell_type": "code",
   "execution_count": 3,
   "id": "level-validity",
   "metadata": {},
   "outputs": [],
   "source": [
    "new_motor = robot.add_motor(name='new_motor', can_id=new_id,reduction=44)"
   ]
  },
  {
   "cell_type": "code",
   "execution_count": 4,
   "id": "stunning-organic",
   "metadata": {},
   "outputs": [],
   "source": [
    "new_motor.save_configuration()"
   ]
  },
  {
   "cell_type": "markdown",
   "id": "distant-canadian",
   "metadata": {},
   "source": [
    "测试新电机"
   ]
  },
  {
   "cell_type": "code",
   "execution_count": 6,
   "id": "analyzed-chosen",
   "metadata": {},
   "outputs": [
    {
     "data": {
      "text/plain": [
       "-0.00017703968610185844"
      ]
     },
     "execution_count": 6,
     "metadata": {},
     "output_type": "execute_result"
    }
   ],
   "source": [
    "new_motor.get_pos()"
   ]
  }
 ],
 "metadata": {
  "kernelspec": {
   "display_name": "Python 3",
   "language": "python",
   "name": "python3"
  },
  "language_info": {
   "codemirror_mode": {
    "name": "ipython",
    "version": 3
   },
   "file_extension": ".py",
   "mimetype": "text/x-python",
   "name": "python",
   "nbconvert_exporter": "python",
   "pygments_lexer": "ipython3",
   "version": "3.6.9"
  }
 },
 "nbformat": 4,
 "nbformat_minor": 5
}
