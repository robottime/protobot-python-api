{
 "cells": [
  {
   "cell_type": "markdown",
   "id": "9a1beb99",
   "metadata": {},
   "source": [
    "# 电机操作示例程序\n",
    "\n",
    "选取代码块后点击`运行`按钮或键盘输入 `Ctrl` + `Enter` 运行所选代码块"
   ]
  },
  {
   "cell_type": "code",
   "execution_count": 10,
   "id": "99f369e9-179c-4b15-8e1b-c0f7753ef6b9",
   "metadata": {},
   "outputs": [
    {
     "name": "stdout",
     "output_type": "stream",
     "text": [
      "203\n",
      "85\n",
      "4\n",
      "30\n",
      "30\n",
      "30\n",
      "30\n"
     ]
    }
   ],
   "source": [
    "import serial\n",
    "with serial.Serial('/dev/ttyTHS1', 9600, timeout=1) as ser:\n",
    "    msg = ser.read(7)\n",
    "    for i in msg:\n",
    "        print(i)"
   ]
  },
  {
   "cell_type": "markdown",
   "id": "99c8ba1d",
   "metadata": {},
   "source": [
    "#### 初始化"
   ]
  },
  {
   "cell_type": "code",
   "execution_count": 6,
   "id": "97628335",
   "metadata": {},
   "outputs": [],
   "source": [
    "from protobot.can_bus import Robot\n",
    "# 获取机器人对象\n",
    "robot = Robot()\n",
    "# 添加id为0x10的电机\n",
    "robot.add_motor(name='M2', can_id = 0x18, reduction = 44)\n",
    "# 获取M1电机对象\n",
    "motor = robot.motor('M2')"
   ]
  },
  {
   "cell_type": "code",
   "execution_count": 3,
   "id": "2d5d0a57-53e3-4843-90f8-4d5fcd4c7a77",
   "metadata": {},
   "outputs": [],
   "source": [
    "led=robot.set_battery(0x21)\n",
    "led.set_led(0,5,[0,255,255])"
   ]
  },
  {
   "cell_type": "code",
   "execution_count": 7,
   "id": "0709df16-2ada-486c-8910-c78fe30ff87f",
   "metadata": {},
   "outputs": [],
   "source": [
    "motor.clear_errors()"
   ]
  },
  {
   "cell_type": "code",
   "execution_count": 2,
   "id": "d1d8762e-e770-461d-be0d-24abcb162e1d",
   "metadata": {
    "tags": []
   },
   "outputs": [],
   "source": [
    "battery=robot.set_battery()\n",
    "#battery.set_led(1,5,[0,255,255])"
   ]
  },
  {
   "cell_type": "code",
   "execution_count": 3,
   "id": "def20b41-f448-4cb6-8182-1cb911407bdc",
   "metadata": {},
   "outputs": [
    {
     "data": {
      "text/plain": [
       "12.747655868530273"
      ]
     },
     "execution_count": 3,
     "metadata": {},
     "output_type": "execute_result"
    }
   ],
   "source": [
    "battery.get_voltage()"
   ]
  },
  {
   "cell_type": "code",
   "execution_count": 4,
   "id": "00368e15-b37d-437f-90ea-b540632aed06",
   "metadata": {},
   "outputs": [
    {
     "data": {
      "text/plain": [
       "[1.5518133145448116, -0.006423544549271122, 0.04304733586004081]"
      ]
     },
     "execution_count": 4,
     "metadata": {},
     "output_type": "execute_result"
    }
   ],
   "source": [
    "battery.get_gyro()"
   ]
  },
  {
   "cell_type": "markdown",
   "id": "8b2996a4",
   "metadata": {},
   "source": [
    "#### 读取电源电压"
   ]
  },
  {
   "cell_type": "markdown",
   "id": "33b5a5cf",
   "metadata": {},
   "source": [
    "#### 电机进入位置模式"
   ]
  },
  {
   "cell_type": "code",
   "execution_count": 104,
   "id": "6714c942",
   "metadata": {},
   "outputs": [
    {
     "name": "stdout",
     "output_type": "stream",
     "text": [
      "Failed: disable motor before setting mode.\n"
     ]
    }
   ],
   "source": [
    "motor.position_mode()"
   ]
  },
  {
   "cell_type": "markdown",
   "id": "cd0f747e",
   "metadata": {},
   "source": [
    "#### 电机上电"
   ]
  },
  {
   "cell_type": "code",
   "execution_count": 28,
   "id": "32ce95ee",
   "metadata": {},
   "outputs": [],
   "source": [
    "motor.enable()"
   ]
  },
  {
   "cell_type": "code",
   "execution_count": 8,
   "id": "8edbd79b-a822-428a-87d7-5f7a18456111",
   "metadata": {},
   "outputs": [
    {
     "data": {
      "application/vnd.jupyter.widget-view+json": {
       "model_id": "08454c96b65340e98e8f66b9bec28d00",
       "version_major": 2,
       "version_minor": 0
      },
      "text/plain": [
       "interactive(children=(FloatSlider(value=0.0, description='pos', max=12.57, min=-12.57, step=0.01), Output()), …"
      ]
     },
     "metadata": {},
     "output_type": "display_data"
    }
   ],
   "source": [
    "from ipywidgets import interact\n",
    "motor.enable()\n",
    "@interact(pos=(-12.57, 12.57, 0.01))\n",
    "def set_pos(pos):\n",
    "    motor.set_pos(pos)"
   ]
  },
  {
   "cell_type": "markdown",
   "id": "61300025",
   "metadata": {},
   "source": [
    "#### 电机设置位置（弧度）"
   ]
  },
  {
   "cell_type": "code",
   "execution_count": 20,
   "id": "76214cac",
   "metadata": {},
   "outputs": [],
   "source": [
    "motor.set_pos(0)"
   ]
  },
  {
   "cell_type": "markdown",
   "id": "ecbcdc75",
   "metadata": {},
   "source": [
    "#### 读取电机位置（弧度）"
   ]
  },
  {
   "cell_type": "code",
   "execution_count": 7,
   "id": "9a340c5c",
   "metadata": {},
   "outputs": [
    {
     "data": {
      "text/plain": [
       "0.29335348677353795"
      ]
     },
     "execution_count": 7,
     "metadata": {},
     "output_type": "execute_result"
    }
   ],
   "source": [
    "motor.get_pos()"
   ]
  },
  {
   "cell_type": "markdown",
   "id": "cde4fd6c",
   "metadata": {},
   "source": [
    "#### 电机掉电"
   ]
  },
  {
   "cell_type": "code",
   "execution_count": 9,
   "id": "947005a7",
   "metadata": {},
   "outputs": [],
   "source": [
    "motor.disable()"
   ]
  },
  {
   "cell_type": "markdown",
   "id": "6a39a418",
   "metadata": {},
   "source": [
    "#### 电机进入速度模式"
   ]
  },
  {
   "cell_type": "code",
   "execution_count": 89,
   "id": "a87590fe",
   "metadata": {},
   "outputs": [],
   "source": [
    "motor.velocity_mode()"
   ]
  },
  {
   "cell_type": "markdown",
   "id": "b33441b4",
   "metadata": {},
   "source": [
    "#### 电机上电"
   ]
  },
  {
   "cell_type": "code",
   "execution_count": 90,
   "id": "f886a7c0",
   "metadata": {},
   "outputs": [],
   "source": [
    "motor.enable()"
   ]
  },
  {
   "cell_type": "markdown",
   "id": "ada170ec",
   "metadata": {},
   "source": [
    "#### 电机设置速度（弧度/秒）"
   ]
  },
  {
   "cell_type": "code",
   "execution_count": 96,
   "id": "98b5a56e",
   "metadata": {},
   "outputs": [
    {
     "name": "stdout",
     "output_type": "stream",
     "text": [
      "Failed: only set vel in velocity mode.\n"
     ]
    }
   ],
   "source": [
    "motor.set_vel(10)"
   ]
  },
  {
   "cell_type": "markdown",
   "id": "d0bd15ae",
   "metadata": {},
   "source": [
    "#### 读取电机速度（弧度/秒）"
   ]
  },
  {
   "cell_type": "code",
   "execution_count": 57,
   "id": "008d704f",
   "metadata": {},
   "outputs": [
    {
     "data": {
      "text/plain": [
       "-0.7011867173879512"
      ]
     },
     "execution_count": 57,
     "metadata": {},
     "output_type": "execute_result"
    }
   ],
   "source": [
    "motor.get_vel()"
   ]
  },
  {
   "cell_type": "markdown",
   "id": "2831b6e0",
   "metadata": {},
   "source": [
    "#### 电机掉电"
   ]
  },
  {
   "cell_type": "code",
   "execution_count": 97,
   "id": "aa2cb18d",
   "metadata": {},
   "outputs": [],
   "source": [
    "motor.disable()"
   ]
  }
 ],
 "metadata": {
  "kernelspec": {
   "display_name": "Python 3",
   "language": "python",
   "name": "python3"
  },
  "language_info": {
   "codemirror_mode": {
    "name": "ipython",
    "version": 3
   },
   "file_extension": ".py",
   "mimetype": "text/x-python",
   "name": "python",
   "nbconvert_exporter": "python",
   "pygments_lexer": "ipython3",
   "version": "3.6.9"
  }
 },
 "nbformat": 4,
 "nbformat_minor": 5
}
