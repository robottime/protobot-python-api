{
 "cells": [
  {
   "cell_type": "markdown",
   "id": "subtle-acrobat",
   "metadata": {},
   "source": [
    "# 电机拓展控制器"
   ]
  },
  {
   "cell_type": "code",
   "execution_count": 1,
   "id": "educated-locking",
   "metadata": {},
   "outputs": [],
   "source": [
    "from protobot.can_bus import Robot\n",
    "robot = Robot()\n",
    "acc = robot.add_device('acc')"
   ]
  },
  {
   "cell_type": "code",
   "execution_count": 2,
   "id": "prepared-appraisal",
   "metadata": {},
   "outputs": [],
   "source": [
    "acc.set_led(1,5,[0,255,255])"
   ]
  },
  {
   "cell_type": "code",
   "execution_count": 29,
   "id": "764dbb16-7145-4bf8-a2e4-bcdf9325b77a",
   "metadata": {},
   "outputs": [],
   "source": [
    "acc.set_servo(0.5)"
   ]
  },
  {
   "cell_type": "code",
   "execution_count": 12,
   "id": "e2b2a00c-895e-4bec-9fc0-66303c3b0eff",
   "metadata": {},
   "outputs": [
    {
     "name": "stdout",
     "output_type": "stream",
     "text": [
      "0.8518722926355372 -12.964946698885369 -7.490980224917659\n"
     ]
    }
   ],
   "source": [
    "r,p,y=acc.get_gyro()\n",
    "print(r*180/3.14,p*180/3.14,y*180/3.14)"
   ]
  }
 ],
 "metadata": {
  "kernelspec": {
   "display_name": "Python 3",
   "language": "python",
   "name": "python3"
  },
  "language_info": {
   "codemirror_mode": {
    "name": "ipython",
    "version": 3
   },
   "file_extension": ".py",
   "mimetype": "text/x-python",
   "name": "python",
   "nbconvert_exporter": "python",
   "pygments_lexer": "ipython3",
   "version": "3.6.9"
  }
 },
 "nbformat": 4,
 "nbformat_minor": 5
}
