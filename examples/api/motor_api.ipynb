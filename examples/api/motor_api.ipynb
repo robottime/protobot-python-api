{
 "cells": [
  {
   "cell_type": "code",
   "execution_count": 7,
   "id": "447f1515-10d3-440c-8c7c-07ee6294bfb4",
   "metadata": {},
   "outputs": [],
   "source": [
    "from protobot.can_bus import Robot\n",
    "robot = Robot()\n",
    "motor = robot.add_motor(name='Test Motor', can_id=0x18, reduction=44)"
   ]
  },
  {
   "cell_type": "code",
   "execution_count": 6,
   "id": "cb7ebff0-2e10-493b-bd3f-4699b63c33ec",
   "metadata": {},
   "outputs": [
    {
     "name": "stdout",
     "output_type": "stream",
     "text": [
      "Disabled\n"
     ]
    },
    {
     "data": {
      "text/plain": [
       "{'state': 1,\n",
       " 'error': 0,\n",
       " 'motor_err': 0,\n",
       " 'encoder_err': 0,\n",
       " 'controller_err': 0,\n",
       " 'control_mode': 0,\n",
       " 'input_mode': 0,\n",
       " 'update_rate': 0.32346653938293457}"
      ]
     },
     "execution_count": 6,
     "metadata": {},
     "output_type": "execute_result"
    }
   ],
   "source": [
    "motor.status()"
   ]
  },
  {
   "cell_type": "code",
   "execution_count": 106,
   "id": "d0e5c239-feb0-4948-abd0-f7fc3229ef31",
   "metadata": {},
   "outputs": [
    {
     "data": {
      "text/plain": [
       "'0.3.0'"
      ]
     },
     "execution_count": 106,
     "metadata": {},
     "output_type": "execute_result"
    }
   ],
   "source": [
    "motor.get_api_ver()"
   ]
  },
  {
   "cell_type": "code",
   "execution_count": 29,
   "id": "d23d8584-0ad7-4d07-8c24-a6749df1391c",
   "metadata": {},
   "outputs": [],
   "source": [
    "motor.estop()"
   ]
  },
  {
   "cell_type": "code",
   "execution_count": 149,
   "id": "97f3c987-5915-4eb5-96f4-c6c659995ada",
   "metadata": {},
   "outputs": [],
   "source": [
    "motor.reboot()"
   ]
  },
  {
   "cell_type": "code",
   "execution_count": 27,
   "id": "6e48408d-fc88-451c-a980-e804c4b6d25d",
   "metadata": {},
   "outputs": [
    {
     "data": {
      "text/plain": [
       "True"
      ]
     },
     "execution_count": 27,
     "metadata": {},
     "output_type": "execute_result"
    }
   ],
   "source": [
    "motor.clear_errors()"
   ]
  },
  {
   "cell_type": "code",
   "execution_count": 120,
   "id": "f96564f1-8a42-4a7d-b2a2-f5d8f2e4b66e",
   "metadata": {},
   "outputs": [],
   "source": [
    "motor.save_configuration()"
   ]
  },
  {
   "cell_type": "code",
   "execution_count": 118,
   "id": "25bed782-0d79-4d57-9be6-f7de59fa23b1",
   "metadata": {},
   "outputs": [],
   "source": [
    "motor.set_can_id(0x10, 1000)"
   ]
  },
  {
   "cell_type": "code",
   "execution_count": 28,
   "id": "0b4f575d-a297-48c6-b26b-94bf02ac7050",
   "metadata": {},
   "outputs": [
    {
     "data": {
      "text/plain": [
       "True"
      ]
     },
     "execution_count": 28,
     "metadata": {},
     "output_type": "execute_result"
    }
   ],
   "source": [
    "motor.enable()"
   ]
  },
  {
   "cell_type": "code",
   "execution_count": 76,
   "id": "14e0b399-0cf1-4dcb-8103-c64097ecb1db",
   "metadata": {},
   "outputs": [],
   "source": [
    "motor.disable()"
   ]
  },
  {
   "cell_type": "code",
   "execution_count": 155,
   "id": "419f765d-4813-4d1a-8fd9-5f93a9cf7a67",
   "metadata": {},
   "outputs": [],
   "source": [
    "motor.calibrate()"
   ]
  },
  {
   "cell_type": "code",
   "execution_count": 6,
   "id": "88eed298-bd6c-49f2-8ff3-a8b8949b4c6e",
   "metadata": {},
   "outputs": [
    {
     "data": {
      "text/plain": [
       "11.263989448547363"
      ]
     },
     "execution_count": 6,
     "metadata": {},
     "output_type": "execute_result"
    }
   ],
   "source": [
    "motor.get_vbus()"
   ]
  },
  {
   "cell_type": "code",
   "execution_count": 10,
   "id": "c76f954b-b0bc-4a34-b67e-a7fb0c91fcdd",
   "metadata": {},
   "outputs": [
    {
     "data": {
      "text/plain": [
       "25.538476943969727"
      ]
     },
     "execution_count": 10,
     "metadata": {},
     "output_type": "execute_result"
    }
   ],
   "source": [
    "motor.get_temperature()"
   ]
  },
  {
   "cell_type": "code",
   "execution_count": 9,
   "id": "69078589-2d52-4c01-a7eb-5b1b2f1bcea2",
   "metadata": {},
   "outputs": [
    {
     "data": {
      "text/plain": [
       "(-1.4707216481695948, 0.011984224905356571, 0.2148844296957896)"
      ]
     },
     "execution_count": 9,
     "metadata": {},
     "output_type": "execute_result"
    }
   ],
   "source": [
    "motor.get_status()"
   ]
  },
  {
   "cell_type": "code",
   "execution_count": 3,
   "id": "5ad11db7-7c53-470a-b59c-5e17ad42ddfe",
   "metadata": {},
   "outputs": [
    {
     "data": {
      "text/plain": [
       "-0.14699823032035586"
      ]
     },
     "execution_count": 3,
     "metadata": {},
     "output_type": "execute_result"
    }
   ],
   "source": [
    "motor.get_pos()"
   ]
  },
  {
   "cell_type": "code",
   "execution_count": 4,
   "id": "8bd33f5a-dec5-4c1e-afbc-4add635e1a0b",
   "metadata": {},
   "outputs": [
    {
     "data": {
      "text/plain": [
       "0.001089474991396052"
      ]
     },
     "execution_count": 4,
     "metadata": {},
     "output_type": "execute_result"
    }
   ],
   "source": [
    "motor.get_vel()"
   ]
  },
  {
   "cell_type": "code",
   "execution_count": 25,
   "id": "ef7be87d-a118-433f-990e-5c8c85f6a943",
   "metadata": {},
   "outputs": [
    {
     "data": {
      "text/plain": [
       "0.4718695383076116"
      ]
     },
     "execution_count": 25,
     "metadata": {},
     "output_type": "execute_result"
    }
   ],
   "source": [
    "motor.get_torque()"
   ]
  },
  {
   "cell_type": "code",
   "execution_count": 34,
   "id": "4eb406f9-e908-4dce-a39a-5c79d04ce51a",
   "metadata": {},
   "outputs": [
    {
     "data": {
      "text/plain": [
       "[3, 3, 12.0]"
      ]
     },
     "execution_count": 34,
     "metadata": {},
     "output_type": "execute_result"
    }
   ],
   "source": [
    "motor.get_controller_modes()"
   ]
  },
  {
   "cell_type": "code",
   "execution_count": 162,
   "id": "ad4b8823-7796-437e-b60c-2ab1027d4efc",
   "metadata": {},
   "outputs": [
    {
     "data": {
      "text/plain": [
       "(100.0, 0.0200042724609375, 0.0)"
      ]
     },
     "execution_count": 162,
     "metadata": {},
     "output_type": "execute_result"
    }
   ],
   "source": [
    "motor.get_controller_pid()"
   ]
  },
  {
   "cell_type": "code",
   "execution_count": 97,
   "id": "8d8754c6-37b2-43cd-923f-ec6bc468f0e6",
   "metadata": {},
   "outputs": [],
   "source": [
    "motor.set_controller_pid(100, 0.02, 0)"
   ]
  },
  {
   "cell_type": "code",
   "execution_count": 3,
   "id": "e5596b52-2a13-45a9-9c7a-6d56e1aab577",
   "metadata": {},
   "outputs": [
    {
     "data": {
      "text/plain": [
       "(50.0, 8.0)"
      ]
     },
     "execution_count": 3,
     "metadata": {},
     "output_type": "execute_result"
    }
   ],
   "source": [
    "motor.get_limits()"
   ]
  },
  {
   "cell_type": "code",
   "execution_count": 63,
   "id": "986c50e4-b13b-49fb-a0a9-017cbb8d9131",
   "metadata": {},
   "outputs": [],
   "source": [
    "motor.set_limits(30,10)"
   ]
  },
  {
   "cell_type": "code",
   "execution_count": 82,
   "id": "f0b4a381-303c-48b1-a1bf-7cc9899d2bce",
   "metadata": {},
   "outputs": [],
   "source": [
    "motor.position_mode()"
   ]
  },
  {
   "cell_type": "code",
   "execution_count": 99,
   "id": "9a4748d4-c6f9-4df7-95ac-d1d0973b039e",
   "metadata": {},
   "outputs": [],
   "source": [
    "motor.position_filter_mode(10)"
   ]
  },
  {
   "cell_type": "code",
   "execution_count": 55,
   "id": "eea3456d-a2d9-4b3a-89eb-fc5b026f6d7b",
   "metadata": {},
   "outputs": [],
   "source": [
    "motor.position_traj_mode(30, 100, 100)"
   ]
  },
  {
   "cell_type": "code",
   "execution_count": 178,
   "id": "df0362f4-c212-4c06-b18f-ff4199af55f3",
   "metadata": {},
   "outputs": [],
   "source": [
    "motor.set_pos(0)"
   ]
  },
  {
   "cell_type": "code",
   "execution_count": 69,
   "id": "40c573b9-febd-4fc1-b743-3ff145d5ffcd",
   "metadata": {},
   "outputs": [],
   "source": [
    "motor.velocity_mode()"
   ]
  },
  {
   "cell_type": "code",
   "execution_count": 86,
   "id": "39e81363-f000-47bb-8b48-5517780c6491",
   "metadata": {},
   "outputs": [],
   "source": [
    "motor.velocity_ramp_mode(1)"
   ]
  },
  {
   "cell_type": "code",
   "execution_count": 75,
   "id": "2f5f5019-4515-4ecb-8c86-7ef5d6905ff7",
   "metadata": {},
   "outputs": [],
   "source": [
    "motor.set_vel(0)"
   ]
  },
  {
   "cell_type": "code",
   "execution_count": 89,
   "id": "67e0d156-73b4-4bcb-af26-20e97a62a3ae",
   "metadata": {},
   "outputs": [],
   "source": [
    "motor.torque_mode()"
   ]
  },
  {
   "cell_type": "code",
   "execution_count": 106,
   "id": "65210bba-e5c9-462a-a024-ac6ad02bba92",
   "metadata": {},
   "outputs": [],
   "source": [
    "motor.set_torque(0)"
   ]
  }
 ],
 "metadata": {
  "kernelspec": {
   "display_name": "Python 3",
   "language": "python",
   "name": "python3"
  },
  "language_info": {
   "codemirror_mode": {
    "name": "ipython",
    "version": 3
   },
   "file_extension": ".py",
   "mimetype": "text/x-python",
   "name": "python",
   "nbconvert_exporter": "python",
   "pygments_lexer": "ipython3",
   "version": "3.6.9"
  }
 },
 "nbformat": 4,
 "nbformat_minor": 5
}
